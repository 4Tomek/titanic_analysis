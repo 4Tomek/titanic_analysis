{
 "cells": [
  {
   "cell_type": "markdown",
   "id": "bb2ace73",
   "metadata": {},
   "source": [
    "### Import library:"
   ]
  },
  {
   "cell_type": "code",
   "execution_count": 1,
   "id": "002e0d64",
   "metadata": {},
   "outputs": [],
   "source": [
    "import pandas as pd\n",
    "import numpy as np\n",
    "import matplotlib.pyplot as plt\n",
    "import seaborn as sns\n",
    "\n",
    "from sklearn.preprocessing import StandardScaler, LabelEncoder\n",
    "from sklearn.model_selection import train_test_split\n",
    "from sklearn.linear_model import LogisticRegression\n",
    "from sklearn.metrics import accuracy_score"
   ]
  },
  {
   "cell_type": "markdown",
   "id": "1d8a760d",
   "metadata": {},
   "source": [
    "### Read the data:"
   ]
  },
  {
   "cell_type": "code",
   "execution_count": 2,
   "id": "0a93a8b7",
   "metadata": {
    "scrolled": false
   },
   "outputs": [],
   "source": [
    "titanic = pd.read_csv(\"Titanic-Dataset.csv\")"
   ]
  },
  {
   "cell_type": "markdown",
   "id": "b56315e3",
   "metadata": {},
   "source": [
    "## Data Exploring:"
   ]
  },
  {
   "cell_type": "code",
   "execution_count": 3,
   "id": "213488d0",
   "metadata": {
    "scrolled": true
   },
   "outputs": [
    {
     "data": {
      "text/html": [
       "<div>\n",
       "<style scoped>\n",
       "    .dataframe tbody tr th:only-of-type {\n",
       "        vertical-align: middle;\n",
       "    }\n",
       "\n",
       "    .dataframe tbody tr th {\n",
       "        vertical-align: top;\n",
       "    }\n",
       "\n",
       "    .dataframe thead th {\n",
       "        text-align: right;\n",
       "    }\n",
       "</style>\n",
       "<table border=\"1\" class=\"dataframe\">\n",
       "  <thead>\n",
       "    <tr style=\"text-align: right;\">\n",
       "      <th></th>\n",
       "      <th>PassengerId</th>\n",
       "      <th>Survived</th>\n",
       "      <th>Pclass</th>\n",
       "      <th>Name</th>\n",
       "      <th>Sex</th>\n",
       "      <th>Age</th>\n",
       "      <th>SibSp</th>\n",
       "      <th>Parch</th>\n",
       "      <th>Ticket</th>\n",
       "      <th>Fare</th>\n",
       "      <th>Cabin</th>\n",
       "      <th>Embarked</th>\n",
       "    </tr>\n",
       "  </thead>\n",
       "  <tbody>\n",
       "    <tr>\n",
       "      <th>0</th>\n",
       "      <td>1</td>\n",
       "      <td>0</td>\n",
       "      <td>3</td>\n",
       "      <td>Braund, Mr. Owen Harris</td>\n",
       "      <td>male</td>\n",
       "      <td>22.0</td>\n",
       "      <td>1</td>\n",
       "      <td>0</td>\n",
       "      <td>A/5 21171</td>\n",
       "      <td>7.2500</td>\n",
       "      <td>NaN</td>\n",
       "      <td>S</td>\n",
       "    </tr>\n",
       "    <tr>\n",
       "      <th>1</th>\n",
       "      <td>2</td>\n",
       "      <td>1</td>\n",
       "      <td>1</td>\n",
       "      <td>Cumings, Mrs. John Bradley (Florence Briggs Th...</td>\n",
       "      <td>female</td>\n",
       "      <td>38.0</td>\n",
       "      <td>1</td>\n",
       "      <td>0</td>\n",
       "      <td>PC 17599</td>\n",
       "      <td>71.2833</td>\n",
       "      <td>C85</td>\n",
       "      <td>C</td>\n",
       "    </tr>\n",
       "    <tr>\n",
       "      <th>2</th>\n",
       "      <td>3</td>\n",
       "      <td>1</td>\n",
       "      <td>3</td>\n",
       "      <td>Heikkinen, Miss. Laina</td>\n",
       "      <td>female</td>\n",
       "      <td>26.0</td>\n",
       "      <td>0</td>\n",
       "      <td>0</td>\n",
       "      <td>STON/O2. 3101282</td>\n",
       "      <td>7.9250</td>\n",
       "      <td>NaN</td>\n",
       "      <td>S</td>\n",
       "    </tr>\n",
       "    <tr>\n",
       "      <th>3</th>\n",
       "      <td>4</td>\n",
       "      <td>1</td>\n",
       "      <td>1</td>\n",
       "      <td>Futrelle, Mrs. Jacques Heath (Lily May Peel)</td>\n",
       "      <td>female</td>\n",
       "      <td>35.0</td>\n",
       "      <td>1</td>\n",
       "      <td>0</td>\n",
       "      <td>113803</td>\n",
       "      <td>53.1000</td>\n",
       "      <td>C123</td>\n",
       "      <td>S</td>\n",
       "    </tr>\n",
       "    <tr>\n",
       "      <th>4</th>\n",
       "      <td>5</td>\n",
       "      <td>0</td>\n",
       "      <td>3</td>\n",
       "      <td>Allen, Mr. William Henry</td>\n",
       "      <td>male</td>\n",
       "      <td>35.0</td>\n",
       "      <td>0</td>\n",
       "      <td>0</td>\n",
       "      <td>373450</td>\n",
       "      <td>8.0500</td>\n",
       "      <td>NaN</td>\n",
       "      <td>S</td>\n",
       "    </tr>\n",
       "  </tbody>\n",
       "</table>\n",
       "</div>"
      ],
      "text/plain": [
       "   PassengerId  Survived  Pclass  \\\n",
       "0            1         0       3   \n",
       "1            2         1       1   \n",
       "2            3         1       3   \n",
       "3            4         1       1   \n",
       "4            5         0       3   \n",
       "\n",
       "                                                Name     Sex   Age  SibSp  \\\n",
       "0                            Braund, Mr. Owen Harris    male  22.0      1   \n",
       "1  Cumings, Mrs. John Bradley (Florence Briggs Th...  female  38.0      1   \n",
       "2                             Heikkinen, Miss. Laina  female  26.0      0   \n",
       "3       Futrelle, Mrs. Jacques Heath (Lily May Peel)  female  35.0      1   \n",
       "4                           Allen, Mr. William Henry    male  35.0      0   \n",
       "\n",
       "   Parch            Ticket     Fare Cabin Embarked  \n",
       "0      0         A/5 21171   7.2500   NaN        S  \n",
       "1      0          PC 17599  71.2833   C85        C  \n",
       "2      0  STON/O2. 3101282   7.9250   NaN        S  \n",
       "3      0            113803  53.1000  C123        S  \n",
       "4      0            373450   8.0500   NaN        S  "
      ]
     },
     "execution_count": 3,
     "metadata": {},
     "output_type": "execute_result"
    }
   ],
   "source": [
    "titanic.head()"
   ]
  },
  {
   "cell_type": "markdown",
   "id": "4e4f0b4a",
   "metadata": {},
   "source": [
    "### Columns description:\n",
    "\n",
    "**PassengerId** - passenger unique identifier <br>\n",
    "**Survived** - if passenger survived (1) or died (0) <br>\n",
    "**Pclass** - passenger class: 1 (luxury), 2 (middle), 3 (low) <br>\n",
    "**Name** - passenger name <br>\n",
    "**Sex** - male or female <br>\n",
    "**Age** - passenger age (float) <br>\n",
    "**SibSp** - sum of siblings and spoused traveling with the passenger <br>\n",
    "**Parch** - sum of parents and children traveling with the passenger <br>\n",
    "**Ticket** - passenger's ticket number <br>\n",
    "**Fare** - money spent on the ticket <br>\n",
    "**Cabin** - cabin category or number assigned to the passenger (if available) <br>\n",
    "**Embarked** - destination passenger embarked from (S=Southampton, C=Cherbourg, Q=Queenstown) <br>"
   ]
  },
  {
   "cell_type": "code",
   "execution_count": 4,
   "id": "6f623743",
   "metadata": {},
   "outputs": [
    {
     "data": {
      "text/html": [
       "<div>\n",
       "<style scoped>\n",
       "    .dataframe tbody tr th:only-of-type {\n",
       "        vertical-align: middle;\n",
       "    }\n",
       "\n",
       "    .dataframe tbody tr th {\n",
       "        vertical-align: top;\n",
       "    }\n",
       "\n",
       "    .dataframe thead th {\n",
       "        text-align: right;\n",
       "    }\n",
       "</style>\n",
       "<table border=\"1\" class=\"dataframe\">\n",
       "  <thead>\n",
       "    <tr style=\"text-align: right;\">\n",
       "      <th></th>\n",
       "      <th>PassengerId</th>\n",
       "      <th>Survived</th>\n",
       "      <th>Pclass</th>\n",
       "      <th>Name</th>\n",
       "      <th>Sex</th>\n",
       "      <th>Age</th>\n",
       "      <th>SibSp</th>\n",
       "      <th>Parch</th>\n",
       "      <th>Ticket</th>\n",
       "      <th>Fare</th>\n",
       "      <th>Cabin</th>\n",
       "      <th>Embarked</th>\n",
       "    </tr>\n",
       "  </thead>\n",
       "  <tbody>\n",
       "    <tr>\n",
       "      <th>count</th>\n",
       "      <td>891.000000</td>\n",
       "      <td>891.000000</td>\n",
       "      <td>891.000000</td>\n",
       "      <td>891</td>\n",
       "      <td>891</td>\n",
       "      <td>714.000000</td>\n",
       "      <td>891.000000</td>\n",
       "      <td>891.000000</td>\n",
       "      <td>891</td>\n",
       "      <td>891.000000</td>\n",
       "      <td>204</td>\n",
       "      <td>889</td>\n",
       "    </tr>\n",
       "    <tr>\n",
       "      <th>unique</th>\n",
       "      <td>NaN</td>\n",
       "      <td>NaN</td>\n",
       "      <td>NaN</td>\n",
       "      <td>891</td>\n",
       "      <td>2</td>\n",
       "      <td>NaN</td>\n",
       "      <td>NaN</td>\n",
       "      <td>NaN</td>\n",
       "      <td>681</td>\n",
       "      <td>NaN</td>\n",
       "      <td>147</td>\n",
       "      <td>3</td>\n",
       "    </tr>\n",
       "    <tr>\n",
       "      <th>top</th>\n",
       "      <td>NaN</td>\n",
       "      <td>NaN</td>\n",
       "      <td>NaN</td>\n",
       "      <td>Braund, Mr. Owen Harris</td>\n",
       "      <td>male</td>\n",
       "      <td>NaN</td>\n",
       "      <td>NaN</td>\n",
       "      <td>NaN</td>\n",
       "      <td>347082</td>\n",
       "      <td>NaN</td>\n",
       "      <td>B96 B98</td>\n",
       "      <td>S</td>\n",
       "    </tr>\n",
       "    <tr>\n",
       "      <th>freq</th>\n",
       "      <td>NaN</td>\n",
       "      <td>NaN</td>\n",
       "      <td>NaN</td>\n",
       "      <td>1</td>\n",
       "      <td>577</td>\n",
       "      <td>NaN</td>\n",
       "      <td>NaN</td>\n",
       "      <td>NaN</td>\n",
       "      <td>7</td>\n",
       "      <td>NaN</td>\n",
       "      <td>4</td>\n",
       "      <td>644</td>\n",
       "    </tr>\n",
       "    <tr>\n",
       "      <th>mean</th>\n",
       "      <td>446.000000</td>\n",
       "      <td>0.383838</td>\n",
       "      <td>2.308642</td>\n",
       "      <td>NaN</td>\n",
       "      <td>NaN</td>\n",
       "      <td>29.699118</td>\n",
       "      <td>0.523008</td>\n",
       "      <td>0.381594</td>\n",
       "      <td>NaN</td>\n",
       "      <td>32.204208</td>\n",
       "      <td>NaN</td>\n",
       "      <td>NaN</td>\n",
       "    </tr>\n",
       "    <tr>\n",
       "      <th>std</th>\n",
       "      <td>257.353842</td>\n",
       "      <td>0.486592</td>\n",
       "      <td>0.836071</td>\n",
       "      <td>NaN</td>\n",
       "      <td>NaN</td>\n",
       "      <td>14.526497</td>\n",
       "      <td>1.102743</td>\n",
       "      <td>0.806057</td>\n",
       "      <td>NaN</td>\n",
       "      <td>49.693429</td>\n",
       "      <td>NaN</td>\n",
       "      <td>NaN</td>\n",
       "    </tr>\n",
       "    <tr>\n",
       "      <th>min</th>\n",
       "      <td>1.000000</td>\n",
       "      <td>0.000000</td>\n",
       "      <td>1.000000</td>\n",
       "      <td>NaN</td>\n",
       "      <td>NaN</td>\n",
       "      <td>0.420000</td>\n",
       "      <td>0.000000</td>\n",
       "      <td>0.000000</td>\n",
       "      <td>NaN</td>\n",
       "      <td>0.000000</td>\n",
       "      <td>NaN</td>\n",
       "      <td>NaN</td>\n",
       "    </tr>\n",
       "    <tr>\n",
       "      <th>25%</th>\n",
       "      <td>223.500000</td>\n",
       "      <td>0.000000</td>\n",
       "      <td>2.000000</td>\n",
       "      <td>NaN</td>\n",
       "      <td>NaN</td>\n",
       "      <td>20.125000</td>\n",
       "      <td>0.000000</td>\n",
       "      <td>0.000000</td>\n",
       "      <td>NaN</td>\n",
       "      <td>7.910400</td>\n",
       "      <td>NaN</td>\n",
       "      <td>NaN</td>\n",
       "    </tr>\n",
       "    <tr>\n",
       "      <th>50%</th>\n",
       "      <td>446.000000</td>\n",
       "      <td>0.000000</td>\n",
       "      <td>3.000000</td>\n",
       "      <td>NaN</td>\n",
       "      <td>NaN</td>\n",
       "      <td>28.000000</td>\n",
       "      <td>0.000000</td>\n",
       "      <td>0.000000</td>\n",
       "      <td>NaN</td>\n",
       "      <td>14.454200</td>\n",
       "      <td>NaN</td>\n",
       "      <td>NaN</td>\n",
       "    </tr>\n",
       "    <tr>\n",
       "      <th>75%</th>\n",
       "      <td>668.500000</td>\n",
       "      <td>1.000000</td>\n",
       "      <td>3.000000</td>\n",
       "      <td>NaN</td>\n",
       "      <td>NaN</td>\n",
       "      <td>38.000000</td>\n",
       "      <td>1.000000</td>\n",
       "      <td>0.000000</td>\n",
       "      <td>NaN</td>\n",
       "      <td>31.000000</td>\n",
       "      <td>NaN</td>\n",
       "      <td>NaN</td>\n",
       "    </tr>\n",
       "    <tr>\n",
       "      <th>max</th>\n",
       "      <td>891.000000</td>\n",
       "      <td>1.000000</td>\n",
       "      <td>3.000000</td>\n",
       "      <td>NaN</td>\n",
       "      <td>NaN</td>\n",
       "      <td>80.000000</td>\n",
       "      <td>8.000000</td>\n",
       "      <td>6.000000</td>\n",
       "      <td>NaN</td>\n",
       "      <td>512.329200</td>\n",
       "      <td>NaN</td>\n",
       "      <td>NaN</td>\n",
       "    </tr>\n",
       "  </tbody>\n",
       "</table>\n",
       "</div>"
      ],
      "text/plain": [
       "        PassengerId    Survived      Pclass                     Name   Sex  \\\n",
       "count    891.000000  891.000000  891.000000                      891   891   \n",
       "unique          NaN         NaN         NaN                      891     2   \n",
       "top             NaN         NaN         NaN  Braund, Mr. Owen Harris  male   \n",
       "freq            NaN         NaN         NaN                        1   577   \n",
       "mean     446.000000    0.383838    2.308642                      NaN   NaN   \n",
       "std      257.353842    0.486592    0.836071                      NaN   NaN   \n",
       "min        1.000000    0.000000    1.000000                      NaN   NaN   \n",
       "25%      223.500000    0.000000    2.000000                      NaN   NaN   \n",
       "50%      446.000000    0.000000    3.000000                      NaN   NaN   \n",
       "75%      668.500000    1.000000    3.000000                      NaN   NaN   \n",
       "max      891.000000    1.000000    3.000000                      NaN   NaN   \n",
       "\n",
       "               Age       SibSp       Parch  Ticket        Fare    Cabin  \\\n",
       "count   714.000000  891.000000  891.000000     891  891.000000      204   \n",
       "unique         NaN         NaN         NaN     681         NaN      147   \n",
       "top            NaN         NaN         NaN  347082         NaN  B96 B98   \n",
       "freq           NaN         NaN         NaN       7         NaN        4   \n",
       "mean     29.699118    0.523008    0.381594     NaN   32.204208      NaN   \n",
       "std      14.526497    1.102743    0.806057     NaN   49.693429      NaN   \n",
       "min       0.420000    0.000000    0.000000     NaN    0.000000      NaN   \n",
       "25%      20.125000    0.000000    0.000000     NaN    7.910400      NaN   \n",
       "50%      28.000000    0.000000    0.000000     NaN   14.454200      NaN   \n",
       "75%      38.000000    1.000000    0.000000     NaN   31.000000      NaN   \n",
       "max      80.000000    8.000000    6.000000     NaN  512.329200      NaN   \n",
       "\n",
       "       Embarked  \n",
       "count       889  \n",
       "unique        3  \n",
       "top           S  \n",
       "freq        644  \n",
       "mean        NaN  \n",
       "std         NaN  \n",
       "min         NaN  \n",
       "25%         NaN  \n",
       "50%         NaN  \n",
       "75%         NaN  \n",
       "max         NaN  "
      ]
     },
     "execution_count": 4,
     "metadata": {},
     "output_type": "execute_result"
    }
   ],
   "source": [
    "titanic.describe(include=\"all\")"
   ]
  },
  {
   "cell_type": "code",
   "execution_count": 5,
   "id": "c623ad54",
   "metadata": {
    "scrolled": true
   },
   "outputs": [
    {
     "name": "stdout",
     "output_type": "stream",
     "text": [
      "<class 'pandas.core.frame.DataFrame'>\n",
      "RangeIndex: 891 entries, 0 to 890\n",
      "Data columns (total 12 columns):\n",
      " #   Column       Non-Null Count  Dtype  \n",
      "---  ------       --------------  -----  \n",
      " 0   PassengerId  891 non-null    int64  \n",
      " 1   Survived     891 non-null    int64  \n",
      " 2   Pclass       891 non-null    int64  \n",
      " 3   Name         891 non-null    object \n",
      " 4   Sex          891 non-null    object \n",
      " 5   Age          714 non-null    float64\n",
      " 6   SibSp        891 non-null    int64  \n",
      " 7   Parch        891 non-null    int64  \n",
      " 8   Ticket       891 non-null    object \n",
      " 9   Fare         891 non-null    float64\n",
      " 10  Cabin        204 non-null    object \n",
      " 11  Embarked     889 non-null    object \n",
      "dtypes: float64(2), int64(5), object(5)\n",
      "memory usage: 83.7+ KB\n"
     ]
    }
   ],
   "source": [
    "titanic.info()"
   ]
  },
  {
   "cell_type": "code",
   "execution_count": 6,
   "id": "50f5dbb6",
   "metadata": {},
   "outputs": [
    {
     "data": {
      "text/plain": [
       "0"
      ]
     },
     "execution_count": 6,
     "metadata": {},
     "output_type": "execute_result"
    }
   ],
   "source": [
    "titanic.duplicated().sum()"
   ]
  },
  {
   "cell_type": "code",
   "execution_count": 7,
   "id": "e4ae4a4c",
   "metadata": {},
   "outputs": [
    {
     "data": {
      "text/plain": [
       "PassengerId      0\n",
       "Survived         0\n",
       "Pclass           0\n",
       "Name             0\n",
       "Sex              0\n",
       "Age            177\n",
       "SibSp            0\n",
       "Parch            0\n",
       "Ticket           0\n",
       "Fare             0\n",
       "Cabin          687\n",
       "Embarked         2\n",
       "dtype: int64"
      ]
     },
     "execution_count": 7,
     "metadata": {},
     "output_type": "execute_result"
    }
   ],
   "source": [
    "titanic.isna().sum()"
   ]
  },
  {
   "cell_type": "markdown",
   "id": "decfed2a",
   "metadata": {},
   "source": [
    "## Visualisation:\n",
    "\n",
    "#### Sex distribution of passengers:"
   ]
  },
  {
   "cell_type": "code",
   "execution_count": 8,
   "id": "d993d825",
   "metadata": {},
   "outputs": [
    {
     "data": {
      "text/plain": [
       "male      577\n",
       "female    314\n",
       "Name: Sex, dtype: int64"
      ]
     },
     "execution_count": 8,
     "metadata": {},
     "output_type": "execute_result"
    }
   ],
   "source": [
    "sex_counts = titanic[\"Sex\"].value_counts()\n",
    "sex_counts"
   ]
  },
  {
   "cell_type": "code",
   "execution_count": 9,
   "id": "ef7df119",
   "metadata": {
    "scrolled": true
   },
   "outputs": [
    {
     "data": {
      "image/png": "[encoded data removed]",
      "text/plain": [
       "<Figure size 1200x800 with 1 Axes>"
      ]
     },
     "metadata": {},
     "output_type": "display_data"
    }
   ],
   "source": [
    "colors = [\"blue\", \"red\"]\n",
    "\n",
    "plt.figure(figsize=(12,8))\n",
    "sns.barplot(x=sex_counts.index, y=sex_counts.values, palette=colors)\n",
    "plt.title(\"Sex counts\")\n",
    "plt.xlabel(\"Gender\")\n",
    "plt.ylabel(\"Count\")\n",
    "plt.show()"
   ]
  },
  {
   "cell_type": "markdown",
   "id": "bb62d973",
   "metadata": {},
   "source": [
    "#### 5 most fequent age values:"
   ]
  },
  {
   "cell_type": "code",
   "execution_count": 10,
   "id": "5897909a",
   "metadata": {},
   "outputs": [
    {
     "data": {
      "text/plain": [
       "24.0    30\n",
       "22.0    27\n",
       "18.0    26\n",
       "19.0    25\n",
       "28.0    25\n",
       "Name: Age, dtype: int64"
      ]
     },
     "execution_count": 10,
     "metadata": {},
     "output_type": "execute_result"
    }
   ],
   "source": [
    "#the most 5 age in data\n",
    "age_counts=titanic[\"Age\"].value_counts().head()\n",
    "age_counts"
   ]
  },
  {
   "cell_type": "code",
   "execution_count": 11,
   "id": "d9f08eb4",
   "metadata": {
    "scrolled": false
   },
   "outputs": [
    {
     "data": {
      "image/png": "[encoded data removed]",
      "text/plain": [
       "<Figure size 1200x800 with 1 Axes>"
      ]
     },
     "metadata": {},
     "output_type": "display_data"
    }
   ],
   "source": [
    "plt.figure(figsize=(12,8))\n",
    "sns.barplot(x=age_counts.index, y=age_counts.values)\n",
    "plt.title(\"Age counts\")\n",
    "plt.xlabel(\"Age\")\n",
    "plt.ylabel(\"Count\")\n",
    "plt.show()"
   ]
  },
  {
   "cell_type": "markdown",
   "id": "bc6c9b67",
   "metadata": {},
   "source": [
    "#### Passengers distribution by Pclass:"
   ]
  },
  {
   "cell_type": "code",
   "execution_count": 12,
   "id": "12c6b545",
   "metadata": {},
   "outputs": [
    {
     "data": {
      "text/plain": [
       "3    491\n",
       "1    216\n",
       "2    184\n",
       "Name: Pclass, dtype: int64"
      ]
     },
     "execution_count": 12,
     "metadata": {},
     "output_type": "execute_result"
    }
   ],
   "source": [
    "pclass_counts = titanic[\"Pclass\"].value_counts()\n",
    "pclass_counts"
   ]
  },
  {
   "cell_type": "code",
   "execution_count": 13,
   "id": "881d46ff",
   "metadata": {},
   "outputs": [
    {
     "data": {
      "image/png": "[encoded data removed]",
      "text/plain": [
       "<Figure size 1200x800 with 1 Axes>"
      ]
     },
     "metadata": {},
     "output_type": "display_data"
    }
   ],
   "source": [
    "pclass_names = pclass_counts.index.map({1:\"First class\", 2:\"Second class\", 3:\"Third class\"})\n",
    "\n",
    "plt.figure(figsize = (12,8))\n",
    "explode = (0,0,0.05)\n",
    "plt.pie(pclass_counts.values, labels=pclass_names, explode = explode, autopct = \"%.1f%%\")\n",
    "plt.title(\"Passengers by Pclass\", fontsize=14)\n",
    "plt.show()"
   ]
  },
  {
   "cell_type": "markdown",
   "id": "544f75e3",
   "metadata": {},
   "source": [
    "#### Passengers distribution by Embarked destination:"
   ]
  },
  {
   "cell_type": "code",
   "execution_count": 14,
   "id": "11e6e0eb",
   "metadata": {},
   "outputs": [
    {
     "data": {
      "text/plain": [
       "S    644\n",
       "C    168\n",
       "Q     77\n",
       "Name: Embarked, dtype: int64"
      ]
     },
     "execution_count": 14,
     "metadata": {},
     "output_type": "execute_result"
    }
   ],
   "source": [
    "embarked_counts = titanic[\"Embarked\"].value_counts()\n",
    "embarked_counts"
   ]
  },
  {
   "cell_type": "code",
   "execution_count": 15,
   "id": "d02b94a2",
   "metadata": {},
   "outputs": [
    {
     "data": {
      "image/png": "[encoded data removed]",
      "text/plain": [
       "<Figure size 2000x600 with 1 Axes>"
      ]
     },
     "metadata": {},
     "output_type": "display_data"
    }
   ],
   "source": [
    "embarked_dict = {'S': 'Southampton', 'C': 'Cherbourg', 'Q': 'Queenstown'}\n",
    "embarked_long = embarked_counts.index.map(embarked_dict)\n",
    "\n",
    "plt.figure(figsize = (20, 6))\n",
    "explode = (0,0,0.05)\n",
    "embarked_counts.plot(kind = 'pie', fontsize = 12, explode = explode, autopct = '%.1f%%')\n",
    "plt.title('Passengers by Embarked destination')\n",
    "plt.xlabel('Embarked', weight = \"bold\", color = \"#000000\", fontsize = 14, labelpad = 20)\n",
    "plt.ylabel('Counts', weight = \"bold\", color = \"#000000\", fontsize = 14, labelpad = 20)\n",
    "plt.legend(labels = embarked_long, loc = \"best\")\n",
    "plt.show()"
   ]
  },
  {
   "cell_type": "markdown",
   "id": "bab0010f",
   "metadata": {},
   "source": [
    "#### Passengers by Survival:"
   ]
  },
  {
   "cell_type": "code",
   "execution_count": 16,
   "id": "fea6497d",
   "metadata": {},
   "outputs": [
    {
     "data": {
      "text/plain": [
       "0    549\n",
       "1    342\n",
       "Name: Survived, dtype: int64"
      ]
     },
     "execution_count": 16,
     "metadata": {},
     "output_type": "execute_result"
    }
   ],
   "source": [
    "survival_counts = titanic[\"Survived\"].value_counts()\n",
    "survival_counts"
   ]
  },
  {
   "cell_type": "code",
   "execution_count": 17,
   "id": "fd1f8bac",
   "metadata": {},
   "outputs": [
    {
     "data": {
      "image/png": "[encoded data removed]",
      "text/plain": [
       "<Figure size 1200x800 with 1 Axes>"
      ]
     },
     "metadata": {},
     "output_type": "display_data"
    }
   ],
   "source": [
    "survived_dict = {1:\"Survived\", 0:\"Died\"}\n",
    "survived_long = survival_counts.index.map(survived_dict)\n",
    "\n",
    "plt.figure(figsize = (12,8))\n",
    "plt.pie(survival_counts.values, labels=survived_long, explode=(0,0.02), autopct = \"%.1f%%\")\n",
    "plt.title(\"Passengers Survival\", fontsize=14)\n",
    "plt.show()"
   ]
  },
  {
   "cell_type": "markdown",
   "id": "de7d3501",
   "metadata": {},
   "source": [
    "#### Survival by Age:"
   ]
  },
  {
   "cell_type": "code",
   "execution_count": 18,
   "id": "371fa193",
   "metadata": {},
   "outputs": [
    {
     "data": {
      "text/plain": [
       "<seaborn.axisgrid.FacetGrid at 0x1cf32372520>"
      ]
     },
     "execution_count": 18,
     "metadata": {},
     "output_type": "execute_result"
    },
    {
     "data": {
      "image/png": "[encoded data removed]",
      "text/plain": [
       "<Figure size 600x300 with 2 Axes>"
      ]
     },
     "metadata": {},
     "output_type": "display_data"
    }
   ],
   "source": [
    "age=sns.FacetGrid(titanic,col='Survived')\n",
    "age.map(plt.hist,'Age',bins=20)"
   ]
  },
  {
   "cell_type": "markdown",
   "id": "a742a828",
   "metadata": {},
   "source": [
    "#### Survival by Gender:"
   ]
  },
  {
   "cell_type": "code",
   "execution_count": 19,
   "id": "e2367194",
   "metadata": {},
   "outputs": [
    {
     "data": {
      "text/plain": [
       "<seaborn.axisgrid.FacetGrid at 0x1cf32389e50>"
      ]
     },
     "execution_count": 19,
     "metadata": {},
     "output_type": "execute_result"
    },
    {
     "data": {
      "image/png": "[encoded data removed]",
      "text/plain": [
       "<Figure size 600x300 with 2 Axes>"
      ]
     },
     "metadata": {},
     "output_type": "display_data"
    }
   ],
   "source": [
    "gender=sns.FacetGrid(titanic,col='Survived')\n",
    "\n",
    "gender.map(plt.hist,'Sex',bins=2)"
   ]
  },
  {
   "cell_type": "markdown",
   "id": "7e0d5eff",
   "metadata": {},
   "source": [
    "#### Survival by SibSp:"
   ]
  },
  {
   "cell_type": "code",
   "execution_count": 20,
   "id": "99adb33a",
   "metadata": {},
   "outputs": [
    {
     "data": {
      "text/plain": [
       "<seaborn.axisgrid.FacetGrid at 0x1cf32ea6460>"
      ]
     },
     "execution_count": 20,
     "metadata": {},
     "output_type": "execute_result"
    },
    {
     "data": {
      "image/png": "[encoded data removed]",
      "text/plain": [
       "<Figure size 600x300 with 2 Axes>"
      ]
     },
     "metadata": {},
     "output_type": "display_data"
    }
   ],
   "source": [
    "sibsp_counts = titanic[\"SibSp\"].value_counts()\n",
    "\n",
    "sibsp=sns.FacetGrid(titanic,col='Survived')\n",
    "plt.xticks(sibsp_counts.index)\n",
    "sibsp.map(plt.hist,'SibSp',bins=9)"
   ]
  },
  {
   "cell_type": "markdown",
   "id": "b0021f57",
   "metadata": {},
   "source": [
    "#### Survival by Passenger class:"
   ]
  },
  {
   "cell_type": "code",
   "execution_count": 21,
   "id": "a0a1edd6",
   "metadata": {},
   "outputs": [
    {
     "data": {
      "text/plain": [
       "<seaborn.axisgrid.FacetGrid at 0x1cf32de9c10>"
      ]
     },
     "execution_count": 21,
     "metadata": {},
     "output_type": "execute_result"
    },
    {
     "data": {
      "image/png": "[encoded data removed]",
      "text/plain": [
       "<Figure size 600x300 with 2 Axes>"
      ]
     },
     "metadata": {},
     "output_type": "display_data"
    }
   ],
   "source": [
    "pclass=sns.FacetGrid(titanic,col='Survived')\n",
    "plt.xticks([1,2,3])\n",
    "pclass.map(plt.hist,'Pclass')"
   ]
  },
  {
   "cell_type": "markdown",
   "id": "a127ecbd",
   "metadata": {},
   "source": [
    "## Data Preprocessing:"
   ]
  },
  {
   "cell_type": "markdown",
   "id": "4c43d08e",
   "metadata": {},
   "source": [
    "### Drop the columns, which are useless for our prediction:"
   ]
  },
  {
   "cell_type": "code",
   "execution_count": 22,
   "id": "b3ac78ed",
   "metadata": {},
   "outputs": [],
   "source": [
    "titanic.drop([\"PassengerId\",\"Name\", \"Cabin\", \"Ticket\"], axis=1, inplace=True)"
   ]
  },
  {
   "cell_type": "markdown",
   "id": "683bda4b",
   "metadata": {},
   "source": [
    "### Replace the missing values:"
   ]
  },
  {
   "cell_type": "code",
   "execution_count": 23,
   "id": "11a5f8f9",
   "metadata": {},
   "outputs": [],
   "source": [
    "titanic[\"Age\"].fillna(titanic[\"Age\"].median(), inplace=True)"
   ]
  },
  {
   "cell_type": "code",
   "execution_count": 24,
   "id": "4268a4d8",
   "metadata": {},
   "outputs": [],
   "source": [
    "titanic[\"Embarked\"].fillna(titanic[\"Embarked\"].mode()[0], inplace=True)"
   ]
  },
  {
   "cell_type": "markdown",
   "id": "3ed80ca2",
   "metadata": {},
   "source": [
    "### Convert the text values to numbers:"
   ]
  },
  {
   "cell_type": "code",
   "execution_count": 25,
   "id": "f078c871",
   "metadata": {},
   "outputs": [],
   "source": [
    "label_encoder = LabelEncoder()"
   ]
  },
  {
   "cell_type": "code",
   "execution_count": 26,
   "id": "07c24f4a",
   "metadata": {},
   "outputs": [],
   "source": [
    "titanic[\"Sex\"] = label_encoder.fit_transform(titanic[\"Sex\"])\n",
    "titanic[\"Embarked\"] = label_encoder.fit_transform(titanic[\"Embarked\"])"
   ]
  },
  {
   "cell_type": "markdown",
   "id": "58ac9cf7",
   "metadata": {},
   "source": [
    "### Examine correlation between columns:"
   ]
  },
  {
   "cell_type": "code",
   "execution_count": 27,
   "id": "d0967462",
   "metadata": {},
   "outputs": [
    {
     "data": {
      "text/html": [
       "<div>\n",
       "<style scoped>\n",
       "    .dataframe tbody tr th:only-of-type {\n",
       "        vertical-align: middle;\n",
       "    }\n",
       "\n",
       "    .dataframe tbody tr th {\n",
       "        vertical-align: top;\n",
       "    }\n",
       "\n",
       "    .dataframe thead th {\n",
       "        text-align: right;\n",
       "    }\n",
       "</style>\n",
       "<table border=\"1\" class=\"dataframe\">\n",
       "  <thead>\n",
       "    <tr style=\"text-align: right;\">\n",
       "      <th></th>\n",
       "      <th>Survived</th>\n",
       "      <th>Pclass</th>\n",
       "      <th>Sex</th>\n",
       "      <th>Age</th>\n",
       "      <th>SibSp</th>\n",
       "      <th>Parch</th>\n",
       "      <th>Fare</th>\n",
       "      <th>Embarked</th>\n",
       "    </tr>\n",
       "  </thead>\n",
       "  <tbody>\n",
       "    <tr>\n",
       "      <th>Survived</th>\n",
       "      <td>1.000000</td>\n",
       "      <td>-0.338481</td>\n",
       "      <td>-0.543351</td>\n",
       "      <td>-0.064910</td>\n",
       "      <td>-0.035322</td>\n",
       "      <td>0.081629</td>\n",
       "      <td>0.257307</td>\n",
       "      <td>-0.167675</td>\n",
       "    </tr>\n",
       "    <tr>\n",
       "      <th>Pclass</th>\n",
       "      <td>-0.338481</td>\n",
       "      <td>1.000000</td>\n",
       "      <td>0.131900</td>\n",
       "      <td>-0.339898</td>\n",
       "      <td>0.083081</td>\n",
       "      <td>0.018443</td>\n",
       "      <td>-0.549500</td>\n",
       "      <td>0.162098</td>\n",
       "    </tr>\n",
       "    <tr>\n",
       "      <th>Sex</th>\n",
       "      <td>-0.543351</td>\n",
       "      <td>0.131900</td>\n",
       "      <td>1.000000</td>\n",
       "      <td>0.081163</td>\n",
       "      <td>-0.114631</td>\n",
       "      <td>-0.245489</td>\n",
       "      <td>-0.182333</td>\n",
       "      <td>0.108262</td>\n",
       "    </tr>\n",
       "    <tr>\n",
       "      <th>Age</th>\n",
       "      <td>-0.064910</td>\n",
       "      <td>-0.339898</td>\n",
       "      <td>0.081163</td>\n",
       "      <td>1.000000</td>\n",
       "      <td>-0.233296</td>\n",
       "      <td>-0.172482</td>\n",
       "      <td>0.096688</td>\n",
       "      <td>-0.018754</td>\n",
       "    </tr>\n",
       "    <tr>\n",
       "      <th>SibSp</th>\n",
       "      <td>-0.035322</td>\n",
       "      <td>0.083081</td>\n",
       "      <td>-0.114631</td>\n",
       "      <td>-0.233296</td>\n",
       "      <td>1.000000</td>\n",
       "      <td>0.414838</td>\n",
       "      <td>0.159651</td>\n",
       "      <td>0.068230</td>\n",
       "    </tr>\n",
       "    <tr>\n",
       "      <th>Parch</th>\n",
       "      <td>0.081629</td>\n",
       "      <td>0.018443</td>\n",
       "      <td>-0.245489</td>\n",
       "      <td>-0.172482</td>\n",
       "      <td>0.414838</td>\n",
       "      <td>1.000000</td>\n",
       "      <td>0.216225</td>\n",
       "      <td>0.039798</td>\n",
       "    </tr>\n",
       "    <tr>\n",
       "      <th>Fare</th>\n",
       "      <td>0.257307</td>\n",
       "      <td>-0.549500</td>\n",
       "      <td>-0.182333</td>\n",
       "      <td>0.096688</td>\n",
       "      <td>0.159651</td>\n",
       "      <td>0.216225</td>\n",
       "      <td>1.000000</td>\n",
       "      <td>-0.224719</td>\n",
       "    </tr>\n",
       "    <tr>\n",
       "      <th>Embarked</th>\n",
       "      <td>-0.167675</td>\n",
       "      <td>0.162098</td>\n",
       "      <td>0.108262</td>\n",
       "      <td>-0.018754</td>\n",
       "      <td>0.068230</td>\n",
       "      <td>0.039798</td>\n",
       "      <td>-0.224719</td>\n",
       "      <td>1.000000</td>\n",
       "    </tr>\n",
       "  </tbody>\n",
       "</table>\n",
       "</div>"
      ],
      "text/plain": [
       "          Survived    Pclass       Sex       Age     SibSp     Parch  \\\n",
       "Survived  1.000000 -0.338481 -0.543351 -0.064910 -0.035322  0.081629   \n",
       "Pclass   -0.338481  1.000000  0.131900 -0.339898  0.083081  0.018443   \n",
       "Sex      -0.543351  0.131900  1.000000  0.081163 -0.114631 -0.245489   \n",
       "Age      -0.064910 -0.339898  0.081163  1.000000 -0.233296 -0.172482   \n",
       "SibSp    -0.035322  0.083081 -0.114631 -0.233296  1.000000  0.414838   \n",
       "Parch     0.081629  0.018443 -0.245489 -0.172482  0.414838  1.000000   \n",
       "Fare      0.257307 -0.549500 -0.182333  0.096688  0.159651  0.216225   \n",
       "Embarked -0.167675  0.162098  0.108262 -0.018754  0.068230  0.039798   \n",
       "\n",
       "              Fare  Embarked  \n",
       "Survived  0.257307 -0.167675  \n",
       "Pclass   -0.549500  0.162098  \n",
       "Sex      -0.182333  0.108262  \n",
       "Age       0.096688 -0.018754  \n",
       "SibSp     0.159651  0.068230  \n",
       "Parch     0.216225  0.039798  \n",
       "Fare      1.000000 -0.224719  \n",
       "Embarked -0.224719  1.000000  "
      ]
     },
     "execution_count": 27,
     "metadata": {},
     "output_type": "execute_result"
    }
   ],
   "source": [
    "titanic.corr()"
   ]
  },
  {
   "cell_type": "code",
   "execution_count": 28,
   "id": "7a31f2d4",
   "metadata": {},
   "outputs": [
    {
     "data": {
      "image/png": "[encoded data removed]",
      "text/plain": [
       "<Figure size 1200x800 with 2 Axes>"
      ]
     },
     "metadata": {},
     "output_type": "display_data"
    }
   ],
   "source": [
    "plt.figure(figsize=(12, 8))\n",
    "sns.heatmap(titanic.corr(), annot=True)\n",
    "plt.show()"
   ]
  },
  {
   "cell_type": "markdown",
   "id": "a5b825c9",
   "metadata": {},
   "source": [
    "### Split the titanic DF into predictors and values to be predicted:"
   ]
  },
  {
   "cell_type": "code",
   "execution_count": 29,
   "id": "f869188a",
   "metadata": {},
   "outputs": [],
   "source": [
    "unscaled_inputs = titanic.drop(\"Survived\", axis=1).copy()\n",
    "targets = titanic[\"Survived\"]"
   ]
  },
  {
   "cell_type": "markdown",
   "id": "231e2e1a",
   "metadata": {},
   "source": [
    "### Scale the data:"
   ]
  },
  {
   "cell_type": "code",
   "execution_count": 30,
   "id": "74c5de02",
   "metadata": {},
   "outputs": [],
   "source": [
    "survival_scaler = StandardScaler()"
   ]
  },
  {
   "cell_type": "code",
   "execution_count": 31,
   "id": "33f8261d",
   "metadata": {},
   "outputs": [
    {
     "data": {
      "text/plain": [
       "StandardScaler()"
      ]
     },
     "execution_count": 31,
     "metadata": {},
     "output_type": "execute_result"
    }
   ],
   "source": [
    "survival_scaler.fit(unscaled_inputs)"
   ]
  },
  {
   "cell_type": "code",
   "execution_count": 32,
   "id": "58e6c595",
   "metadata": {},
   "outputs": [
    {
     "data": {
      "text/plain": [
       "array([[ 0.82737724,  0.73769513, -0.56573646, ..., -0.47367361,\n",
       "        -0.50244517,  0.58595414],\n",
       "       [-1.56610693, -1.35557354,  0.66386103, ..., -0.47367361,\n",
       "         0.78684529, -1.9423032 ],\n",
       "       [ 0.82737724, -1.35557354, -0.25833709, ..., -0.47367361,\n",
       "        -0.48885426,  0.58595414],\n",
       "       ...,\n",
       "       [ 0.82737724, -1.35557354, -0.1046374 , ...,  2.00893337,\n",
       "        -0.17626324,  0.58595414],\n",
       "       [-1.56610693,  0.73769513, -0.25833709, ..., -0.47367361,\n",
       "        -0.04438104, -1.9423032 ],\n",
       "       [ 0.82737724,  0.73769513,  0.20276197, ..., -0.47367361,\n",
       "        -0.49237783, -0.67817453]])"
      ]
     },
     "execution_count": 32,
     "metadata": {},
     "output_type": "execute_result"
    }
   ],
   "source": [
    "scaled_inputs = survival_scaler.transform(unscaled_inputs)\n",
    "scaled_inputs"
   ]
  },
  {
   "cell_type": "markdown",
   "id": "3dd7731a",
   "metadata": {},
   "source": [
    "### Now split the data into training and test data:"
   ]
  },
  {
   "cell_type": "code",
   "execution_count": 33,
   "id": "ddb9d984",
   "metadata": {},
   "outputs": [],
   "source": [
    "X_train, X_test, y_train, y_test = train_test_split(scaled_inputs, targets, test_size=0.2, random_state=42)"
   ]
  },
  {
   "cell_type": "code",
   "execution_count": 34,
   "id": "a4847788",
   "metadata": {},
   "outputs": [
    {
     "name": "stdout",
     "output_type": "stream",
     "text": [
      "(712, 7) (712,)\n"
     ]
    }
   ],
   "source": [
    "print(X_train.shape, y_train.shape)"
   ]
  },
  {
   "cell_type": "markdown",
   "id": "c077383d",
   "metadata": {},
   "source": [
    "## Modeling:\n",
    "\n",
    "### Make a prediction using a Logistic Regression model:"
   ]
  },
  {
   "cell_type": "code",
   "execution_count": 35,
   "id": "b499df00",
   "metadata": {},
   "outputs": [],
   "source": [
    "model = LogisticRegression()"
   ]
  },
  {
   "cell_type": "code",
   "execution_count": 36,
   "id": "de45ae75",
   "metadata": {},
   "outputs": [
    {
     "data": {
      "text/plain": [
       "LogisticRegression()"
      ]
     },
     "execution_count": 36,
     "metadata": {},
     "output_type": "execute_result"
    }
   ],
   "source": [
    "model.fit(X_train, y_train)"
   ]
  },
  {
   "cell_type": "code",
   "execution_count": 37,
   "id": "1c21ee81",
   "metadata": {},
   "outputs": [],
   "source": [
    "y_pred = model.predict(X_test)"
   ]
  },
  {
   "cell_type": "markdown",
   "id": "24910e79",
   "metadata": {},
   "source": [
    "### Check the model accuracy:"
   ]
  },
  {
   "cell_type": "code",
   "execution_count": 38,
   "id": "e82576f8",
   "metadata": {},
   "outputs": [
    {
     "data": {
      "text/plain": [
       "0.8044692737430168"
      ]
     },
     "execution_count": 38,
     "metadata": {},
     "output_type": "execute_result"
    }
   ],
   "source": [
    "accuracy = accuracy_score(y_test, y_pred)\n",
    "accuracy"
   ]
  },
  {
   "cell_type": "markdown",
   "id": "47e496b8",
   "metadata": {},
   "source": [
    "### Check the acuracy on the training data as well:"
   ]
  },
  {
   "cell_type": "code",
   "execution_count": 39,
   "id": "2a88db55",
   "metadata": {},
   "outputs": [],
   "source": [
    "y_pred2 = model.predict(X_train)"
   ]
  },
  {
   "cell_type": "code",
   "execution_count": 40,
   "id": "40e1502b",
   "metadata": {},
   "outputs": [
    {
     "data": {
      "text/plain": [
       "0.800561797752809"
      ]
     },
     "execution_count": 40,
     "metadata": {},
     "output_type": "execute_result"
    }
   ],
   "source": [
    "accuracy2 = accuracy_score(y_train, y_pred2)\n",
    "accuracy2"
   ]
  },
  {
   "cell_type": "markdown",
   "id": "99ac4a5d",
   "metadata": {},
   "source": [
    "## Analysis of the Model:\n",
    "\n",
    "### Find the Coeffcients (weight of each factor) used in our model:"
   ]
  },
  {
   "cell_type": "code",
   "execution_count": 41,
   "id": "c926599a",
   "metadata": {},
   "outputs": [],
   "source": [
    "feature_name = unscaled_inputs.columns.values"
   ]
  },
  {
   "cell_type": "code",
   "execution_count": 42,
   "id": "6e0b7585",
   "metadata": {},
   "outputs": [],
   "source": [
    "summary_table = pd.DataFrame(columns=[\"Feature name\"], data = feature_name)"
   ]
  },
  {
   "cell_type": "code",
   "execution_count": 43,
   "id": "ad9279fd",
   "metadata": {},
   "outputs": [
    {
     "data": {
      "text/html": [
       "<div>\n",
       "<style scoped>\n",
       "    .dataframe tbody tr th:only-of-type {\n",
       "        vertical-align: middle;\n",
       "    }\n",
       "\n",
       "    .dataframe tbody tr th {\n",
       "        vertical-align: top;\n",
       "    }\n",
       "\n",
       "    .dataframe thead th {\n",
       "        text-align: right;\n",
       "    }\n",
       "</style>\n",
       "<table border=\"1\" class=\"dataframe\">\n",
       "  <thead>\n",
       "    <tr style=\"text-align: right;\">\n",
       "      <th></th>\n",
       "      <th>Feature name</th>\n",
       "      <th>Coefficient</th>\n",
       "    </tr>\n",
       "  </thead>\n",
       "  <tbody>\n",
       "    <tr>\n",
       "      <th>0</th>\n",
       "      <td>Pclass</td>\n",
       "      <td>-0.792425</td>\n",
       "    </tr>\n",
       "    <tr>\n",
       "      <th>1</th>\n",
       "      <td>Sex</td>\n",
       "      <td>-1.285683</td>\n",
       "    </tr>\n",
       "    <tr>\n",
       "      <th>2</th>\n",
       "      <td>Age</td>\n",
       "      <td>-0.395695</td>\n",
       "    </tr>\n",
       "    <tr>\n",
       "      <th>3</th>\n",
       "      <td>SibSp</td>\n",
       "      <td>-0.328026</td>\n",
       "    </tr>\n",
       "    <tr>\n",
       "      <th>4</th>\n",
       "      <td>Parch</td>\n",
       "      <td>-0.100180</td>\n",
       "    </tr>\n",
       "    <tr>\n",
       "      <th>5</th>\n",
       "      <td>Fare</td>\n",
       "      <td>0.121310</td>\n",
       "    </tr>\n",
       "    <tr>\n",
       "      <th>6</th>\n",
       "      <td>Embarked</td>\n",
       "      <td>-0.174815</td>\n",
       "    </tr>\n",
       "  </tbody>\n",
       "</table>\n",
       "</div>"
      ],
      "text/plain": [
       "  Feature name  Coefficient\n",
       "0       Pclass    -0.792425\n",
       "1          Sex    -1.285683\n",
       "2          Age    -0.395695\n",
       "3        SibSp    -0.328026\n",
       "4        Parch    -0.100180\n",
       "5         Fare     0.121310\n",
       "6     Embarked    -0.174815"
      ]
     },
     "execution_count": 43,
     "metadata": {},
     "output_type": "execute_result"
    }
   ],
   "source": [
    "summary_table[\"Coefficient\"] = np.transpose(model.coef_)\n",
    "summary_table"
   ]
  },
  {
   "cell_type": "markdown",
   "id": "aeb7b8d3",
   "metadata": {},
   "source": [
    "### Add intercept (offset on regression) to the table:"
   ]
  },
  {
   "cell_type": "code",
   "execution_count": 44,
   "id": "06416e91",
   "metadata": {},
   "outputs": [],
   "source": [
    "summary_table.index = summary_table.index + 1"
   ]
  },
  {
   "cell_type": "code",
   "execution_count": 45,
   "id": "7394c164",
   "metadata": {},
   "outputs": [],
   "source": [
    "summary_table.loc[0] = ['Intercept', model.intercept_[0]]"
   ]
  },
  {
   "cell_type": "code",
   "execution_count": 46,
   "id": "79d3336a",
   "metadata": {
    "scrolled": true
   },
   "outputs": [
    {
     "data": {
      "text/html": [
       "<div>\n",
       "<style scoped>\n",
       "    .dataframe tbody tr th:only-of-type {\n",
       "        vertical-align: middle;\n",
       "    }\n",
       "\n",
       "    .dataframe tbody tr th {\n",
       "        vertical-align: top;\n",
       "    }\n",
       "\n",
       "    .dataframe thead th {\n",
       "        text-align: right;\n",
       "    }\n",
       "</style>\n",
       "<table border=\"1\" class=\"dataframe\">\n",
       "  <thead>\n",
       "    <tr style=\"text-align: right;\">\n",
       "      <th></th>\n",
       "      <th>Feature name</th>\n",
       "      <th>Coefficient</th>\n",
       "    </tr>\n",
       "  </thead>\n",
       "  <tbody>\n",
       "    <tr>\n",
       "      <th>0</th>\n",
       "      <td>Intercept</td>\n",
       "      <td>-0.623023</td>\n",
       "    </tr>\n",
       "    <tr>\n",
       "      <th>1</th>\n",
       "      <td>Pclass</td>\n",
       "      <td>-0.792425</td>\n",
       "    </tr>\n",
       "    <tr>\n",
       "      <th>2</th>\n",
       "      <td>Sex</td>\n",
       "      <td>-1.285683</td>\n",
       "    </tr>\n",
       "    <tr>\n",
       "      <th>3</th>\n",
       "      <td>Age</td>\n",
       "      <td>-0.395695</td>\n",
       "    </tr>\n",
       "    <tr>\n",
       "      <th>4</th>\n",
       "      <td>SibSp</td>\n",
       "      <td>-0.328026</td>\n",
       "    </tr>\n",
       "    <tr>\n",
       "      <th>5</th>\n",
       "      <td>Parch</td>\n",
       "      <td>-0.100180</td>\n",
       "    </tr>\n",
       "    <tr>\n",
       "      <th>6</th>\n",
       "      <td>Fare</td>\n",
       "      <td>0.121310</td>\n",
       "    </tr>\n",
       "    <tr>\n",
       "      <th>7</th>\n",
       "      <td>Embarked</td>\n",
       "      <td>-0.174815</td>\n",
       "    </tr>\n",
       "  </tbody>\n",
       "</table>\n",
       "</div>"
      ],
      "text/plain": [
       "  Feature name  Coefficient\n",
       "0    Intercept    -0.623023\n",
       "1       Pclass    -0.792425\n",
       "2          Sex    -1.285683\n",
       "3          Age    -0.395695\n",
       "4        SibSp    -0.328026\n",
       "5        Parch    -0.100180\n",
       "6         Fare     0.121310\n",
       "7     Embarked    -0.174815"
      ]
     },
     "execution_count": 46,
     "metadata": {},
     "output_type": "execute_result"
    }
   ],
   "source": [
    "summary_table.sort_index(inplace=True)\n",
    "summary_table"
   ]
  },
  {
   "cell_type": "markdown",
   "id": "ac9b6d1d",
   "metadata": {},
   "source": [
    "### Add Odds ratio (chance to survive when value = 1):"
   ]
  },
  {
   "cell_type": "code",
   "execution_count": 47,
   "id": "87d36dc3",
   "metadata": {},
   "outputs": [],
   "source": [
    "summary_table['Odds_ratio'] = np.exp(summary_table.Coefficient)"
   ]
  },
  {
   "cell_type": "code",
   "execution_count": 48,
   "id": "bceda2b5",
   "metadata": {},
   "outputs": [
    {
     "data": {
      "text/html": [
       "<div>\n",
       "<style scoped>\n",
       "    .dataframe tbody tr th:only-of-type {\n",
       "        vertical-align: middle;\n",
       "    }\n",
       "\n",
       "    .dataframe tbody tr th {\n",
       "        vertical-align: top;\n",
       "    }\n",
       "\n",
       "    .dataframe thead th {\n",
       "        text-align: right;\n",
       "    }\n",
       "</style>\n",
       "<table border=\"1\" class=\"dataframe\">\n",
       "  <thead>\n",
       "    <tr style=\"text-align: right;\">\n",
       "      <th></th>\n",
       "      <th>Feature name</th>\n",
       "      <th>Coefficient</th>\n",
       "      <th>Odds_ratio</th>\n",
       "    </tr>\n",
       "  </thead>\n",
       "  <tbody>\n",
       "    <tr>\n",
       "      <th>6</th>\n",
       "      <td>Fare</td>\n",
       "      <td>0.121310</td>\n",
       "      <td>1.128975</td>\n",
       "    </tr>\n",
       "    <tr>\n",
       "      <th>5</th>\n",
       "      <td>Parch</td>\n",
       "      <td>-0.100180</td>\n",
       "      <td>0.904675</td>\n",
       "    </tr>\n",
       "    <tr>\n",
       "      <th>7</th>\n",
       "      <td>Embarked</td>\n",
       "      <td>-0.174815</td>\n",
       "      <td>0.839612</td>\n",
       "    </tr>\n",
       "    <tr>\n",
       "      <th>4</th>\n",
       "      <td>SibSp</td>\n",
       "      <td>-0.328026</td>\n",
       "      <td>0.720344</td>\n",
       "    </tr>\n",
       "    <tr>\n",
       "      <th>3</th>\n",
       "      <td>Age</td>\n",
       "      <td>-0.395695</td>\n",
       "      <td>0.673212</td>\n",
       "    </tr>\n",
       "    <tr>\n",
       "      <th>0</th>\n",
       "      <td>Intercept</td>\n",
       "      <td>-0.623023</td>\n",
       "      <td>0.536321</td>\n",
       "    </tr>\n",
       "    <tr>\n",
       "      <th>1</th>\n",
       "      <td>Pclass</td>\n",
       "      <td>-0.792425</td>\n",
       "      <td>0.452746</td>\n",
       "    </tr>\n",
       "    <tr>\n",
       "      <th>2</th>\n",
       "      <td>Sex</td>\n",
       "      <td>-1.285683</td>\n",
       "      <td>0.276462</td>\n",
       "    </tr>\n",
       "  </tbody>\n",
       "</table>\n",
       "</div>"
      ],
      "text/plain": [
       "  Feature name  Coefficient  Odds_ratio\n",
       "6         Fare     0.121310    1.128975\n",
       "5        Parch    -0.100180    0.904675\n",
       "7     Embarked    -0.174815    0.839612\n",
       "4        SibSp    -0.328026    0.720344\n",
       "3          Age    -0.395695    0.673212\n",
       "0    Intercept    -0.623023    0.536321\n",
       "1       Pclass    -0.792425    0.452746\n",
       "2          Sex    -1.285683    0.276462"
      ]
     },
     "execution_count": 48,
     "metadata": {},
     "output_type": "execute_result"
    }
   ],
   "source": [
    "summary_table.sort_values('Odds_ratio', ascending=False)"
   ]
  },
  {
   "cell_type": "markdown",
   "id": "1230edf4",
   "metadata": {},
   "source": [
    "## Now display the probabilities of predicted value:\n",
    "\n",
    "### Here we have two values for each row - [probability of result 0, probability of result 1]:"
   ]
  },
  {
   "cell_type": "code",
   "execution_count": 49,
   "id": "283b2fd4",
   "metadata": {},
   "outputs": [
    {
     "data": {
      "text/plain": [
       "array([[0.89152764, 0.10847236],\n",
       "       [0.7826072 , 0.2173928 ],\n",
       "       [0.87000946, 0.12999054],\n",
       "       [0.10898146, 0.89101854],\n",
       "       [0.24505898, 0.75494102],\n",
       "       [0.06430352, 0.93569648],\n",
       "       [0.31701438, 0.68298562],\n",
       "       [0.91293892, 0.08706108],\n",
       "       [0.24371181, 0.75628819],\n",
       "       [0.07492148, 0.92507852],\n",
       "       [0.67009849, 0.32990151],\n",
       "       [0.93280241, 0.06719759],\n",
       "       [0.60526077, 0.39473923],\n",
       "       [0.85381808, 0.14618192],\n",
       "       [0.80641227, 0.19358773],\n",
       "       [0.05946524, 0.94053476],\n",
       "       [0.70308027, 0.29691973],\n",
       "       [0.31697249, 0.68302751],\n",
       "       [0.76009169, 0.23990831],\n",
       "       [0.67211746, 0.32788254],\n",
       "       [0.88316509, 0.11683491],\n",
       "       [0.5949873 , 0.4050127 ],\n",
       "       [0.37218748, 0.62781252],\n",
       "       [0.86964994, 0.13035006],\n",
       "       [0.8936193 , 0.1063807 ],\n",
       "       [0.93641974, 0.06358026],\n",
       "       [0.53052188, 0.46947812],\n",
       "       [0.78156652, 0.21843348],\n",
       "       [0.92465241, 0.07534759],\n",
       "       [0.38803839, 0.61196161],\n",
       "       [0.86653979, 0.13346021],\n",
       "       [0.32541578, 0.67458422],\n",
       "       [0.43783914, 0.56216086],\n",
       "       [0.36678141, 0.63321859],\n",
       "       [0.86293911, 0.13706089],\n",
       "       [0.87583997, 0.12416003],\n",
       "       [0.54495484, 0.45504516],\n",
       "       [0.31701438, 0.68298562],\n",
       "       [0.05309368, 0.94690632],\n",
       "       [0.89514307, 0.10485693],\n",
       "       [0.80505857, 0.19494143],\n",
       "       [0.92233493, 0.07766507],\n",
       "       [0.89510771, 0.10489229],\n",
       "       [0.8725565 , 0.1274435 ],\n",
       "       [0.41009271, 0.58990729],\n",
       "       [0.91571426, 0.08428574],\n",
       "       [0.86646562, 0.13353438],\n",
       "       [0.8796473 , 0.1203527 ],\n",
       "       [0.88337809, 0.11662191],\n",
       "       [0.67025558, 0.32974442],\n",
       "       [0.26964599, 0.73035401],\n",
       "       [0.18230047, 0.81769953],\n",
       "       [0.96286951, 0.03713049],\n",
       "       [0.50082364, 0.49917636],\n",
       "       [0.95473465, 0.04526535],\n",
       "       [0.06451321, 0.93548679],\n",
       "       [0.78773633, 0.21226367],\n",
       "       [0.0643162 , 0.9356838 ],\n",
       "       [0.21175717, 0.78824283],\n",
       "       [0.26085598, 0.73914402],\n",
       "       [0.8734505 , 0.1265495 ],\n",
       "       [0.13524603, 0.86475397],\n",
       "       [0.2241208 , 0.7758792 ],\n",
       "       [0.55074804, 0.44925196],\n",
       "       [0.8725565 , 0.1274435 ],\n",
       "       [0.34984541, 0.65015459],\n",
       "       [0.69486308, 0.30513692],\n",
       "       [0.89796788, 0.10203212],\n",
       "       [0.85711373, 0.14288627],\n",
       "       [0.11609289, 0.88390711],\n",
       "       [0.23536221, 0.76463779],\n",
       "       [0.04892871, 0.95107129],\n",
       "       [0.42334538, 0.57665462],\n",
       "       [0.09006231, 0.90993769],\n",
       "       [0.88000132, 0.11999868],\n",
       "       [0.93502647, 0.06497353],\n",
       "       [0.33369861, 0.66630139],\n",
       "       [0.05113025, 0.94886975],\n",
       "       [0.23083571, 0.76916429],\n",
       "       [0.51675547, 0.48324453],\n",
       "       [0.95332297, 0.04667703],\n",
       "       [0.18676422, 0.81323578],\n",
       "       [0.0825746 , 0.9174254 ],\n",
       "       [0.87255989, 0.12744011],\n",
       "       [0.64600372, 0.35399628],\n",
       "       [0.73335573, 0.26664427],\n",
       "       [0.05985767, 0.94014233],\n",
       "       [0.04999828, 0.95000172],\n",
       "       [0.63901867, 0.36098133],\n",
       "       [0.89529103, 0.10470897],\n",
       "       [0.85624829, 0.14375171],\n",
       "       [0.5640113 , 0.4359887 ],\n",
       "       [0.76702218, 0.23297782],\n",
       "       [0.87256215, 0.12743785],\n",
       "       [0.89514307, 0.10485693],\n",
       "       [0.8951526 , 0.1048474 ],\n",
       "       [0.73997096, 0.26002904],\n",
       "       [0.93468361, 0.06531639],\n",
       "       [0.22021454, 0.77978546],\n",
       "       [0.89225432, 0.10774568],\n",
       "       [0.78553839, 0.21446161],\n",
       "       [0.91365745, 0.08634255],\n",
       "       [0.04458462, 0.95541538],\n",
       "       [0.92060121, 0.07939879],\n",
       "       [0.9020341 , 0.0979659 ],\n",
       "       [0.91302045, 0.08697955],\n",
       "       [0.31339348, 0.68660652],\n",
       "       [0.67934251, 0.32065749],\n",
       "       [0.90036499, 0.09963501],\n",
       "       [0.52852647, 0.47147353],\n",
       "       [0.09503546, 0.90496454],\n",
       "       [0.87190359, 0.12809641],\n",
       "       [0.05807168, 0.94192832],\n",
       "       [0.60970707, 0.39029293],\n",
       "       [0.43175678, 0.56824322],\n",
       "       [0.86947795, 0.13052205],\n",
       "       [0.74038818, 0.25961182],\n",
       "       [0.72813731, 0.27186269],\n",
       "       [0.21294895, 0.78705105],\n",
       "       [0.6608989 , 0.3391011 ],\n",
       "       [0.85256029, 0.14743971],\n",
       "       [0.05064461, 0.94935539],\n",
       "       [0.22222782, 0.77777218],\n",
       "       [0.63807106, 0.36192894],\n",
       "       [0.88642536, 0.11357464],\n",
       "       [0.49326382, 0.50673618],\n",
       "       [0.13598962, 0.86401038],\n",
       "       [0.37988271, 0.62011729],\n",
       "       [0.33020242, 0.66979758],\n",
       "       [0.87337623, 0.12662377],\n",
       "       [0.31694605, 0.68305395],\n",
       "       [0.89152764, 0.10847236],\n",
       "       [0.7712432 , 0.2287568 ],\n",
       "       [0.22140648, 0.77859352],\n",
       "       [0.65072098, 0.34927902],\n",
       "       [0.24925713, 0.75074287],\n",
       "       [0.04160347, 0.95839653],\n",
       "       [0.89799025, 0.10200975],\n",
       "       [0.928969  , 0.071031  ],\n",
       "       [0.35949746, 0.64050254],\n",
       "       [0.87327266, 0.12672734],\n",
       "       [0.319675  , 0.680325  ],\n",
       "       [0.76559293, 0.23440707],\n",
       "       [0.8485343 , 0.1514657 ],\n",
       "       [0.53407986, 0.46592014],\n",
       "       [0.27870786, 0.72129214],\n",
       "       [0.77633064, 0.22366936],\n",
       "       [0.91255547, 0.08744453],\n",
       "       [0.05085934, 0.94914066],\n",
       "       [0.93087103, 0.06912897],\n",
       "       [0.84558889, 0.15441111],\n",
       "       [0.88326586, 0.11673414],\n",
       "       [0.86301253, 0.13698747],\n",
       "       [0.37520444, 0.62479556],\n",
       "       [0.89510771, 0.10489229],\n",
       "       [0.89533682, 0.10466318],\n",
       "       [0.88346701, 0.11653299],\n",
       "       [0.31699454, 0.68300546],\n",
       "       [0.26922882, 0.73077118],\n",
       "       [0.43958765, 0.56041235],\n",
       "       [0.82738361, 0.17261639],\n",
       "       [0.55037029, 0.44962971],\n",
       "       [0.8202573 , 0.1797427 ],\n",
       "       [0.05900498, 0.94099502],\n",
       "       [0.87236399, 0.12763601],\n",
       "       [0.71568218, 0.28431782],\n",
       "       [0.73839673, 0.26160327],\n",
       "       [0.09506435, 0.90493565],\n",
       "       [0.87674188, 0.12325812],\n",
       "       [0.9136719 , 0.0863281 ],\n",
       "       [0.41158716, 0.58841284],\n",
       "       [0.17320598, 0.82679402],\n",
       "       [0.60964894, 0.39035106],\n",
       "       [0.23819279, 0.76180721],\n",
       "       [0.85957555, 0.14042445],\n",
       "       [0.84606269, 0.15393731],\n",
       "       [0.65004002, 0.34995998],\n",
       "       [0.13751515, 0.86248485],\n",
       "       [0.2939589 , 0.7060411 ]])"
      ]
     },
     "execution_count": 49,
     "metadata": {},
     "output_type": "execute_result"
    }
   ],
   "source": [
    "predicted_proba = model.predict_proba(X_test)\n",
    "predicted_proba"
   ]
  },
  {
   "cell_type": "markdown",
   "id": "66e3d232",
   "metadata": {},
   "source": [
    "### Show the Array displaying probability of \"target = 1\" for each row:"
   ]
  },
  {
   "cell_type": "code",
   "execution_count": 50,
   "id": "1c5c236e",
   "metadata": {},
   "outputs": [
    {
     "data": {
      "text/plain": [
       "array([0.10847236, 0.2173928 , 0.12999054, 0.89101854, 0.75494102,\n",
       "       0.93569648, 0.68298562, 0.08706108, 0.75628819, 0.92507852,\n",
       "       0.32990151, 0.06719759, 0.39473923, 0.14618192, 0.19358773,\n",
       "       0.94053476, 0.29691973, 0.68302751, 0.23990831, 0.32788254,\n",
       "       0.11683491, 0.4050127 , 0.62781252, 0.13035006, 0.1063807 ,\n",
       "       0.06358026, 0.46947812, 0.21843348, 0.07534759, 0.61196161,\n",
       "       0.13346021, 0.67458422, 0.56216086, 0.63321859, 0.13706089,\n",
       "       0.12416003, 0.45504516, 0.68298562, 0.94690632, 0.10485693,\n",
       "       0.19494143, 0.07766507, 0.10489229, 0.1274435 , 0.58990729,\n",
       "       0.08428574, 0.13353438, 0.1203527 , 0.11662191, 0.32974442,\n",
       "       0.73035401, 0.81769953, 0.03713049, 0.49917636, 0.04526535,\n",
       "       0.93548679, 0.21226367, 0.9356838 , 0.78824283, 0.73914402,\n",
       "       0.1265495 , 0.86475397, 0.7758792 , 0.44925196, 0.1274435 ,\n",
       "       0.65015459, 0.30513692, 0.10203212, 0.14288627, 0.88390711,\n",
       "       0.76463779, 0.95107129, 0.57665462, 0.90993769, 0.11999868,\n",
       "       0.06497353, 0.66630139, 0.94886975, 0.76916429, 0.48324453,\n",
       "       0.04667703, 0.81323578, 0.9174254 , 0.12744011, 0.35399628,\n",
       "       0.26664427, 0.94014233, 0.95000172, 0.36098133, 0.10470897,\n",
       "       0.14375171, 0.4359887 , 0.23297782, 0.12743785, 0.10485693,\n",
       "       0.1048474 , 0.26002904, 0.06531639, 0.77978546, 0.10774568,\n",
       "       0.21446161, 0.08634255, 0.95541538, 0.07939879, 0.0979659 ,\n",
       "       0.08697955, 0.68660652, 0.32065749, 0.09963501, 0.47147353,\n",
       "       0.90496454, 0.12809641, 0.94192832, 0.39029293, 0.56824322,\n",
       "       0.13052205, 0.25961182, 0.27186269, 0.78705105, 0.3391011 ,\n",
       "       0.14743971, 0.94935539, 0.77777218, 0.36192894, 0.11357464,\n",
       "       0.50673618, 0.86401038, 0.62011729, 0.66979758, 0.12662377,\n",
       "       0.68305395, 0.10847236, 0.2287568 , 0.77859352, 0.34927902,\n",
       "       0.75074287, 0.95839653, 0.10200975, 0.071031  , 0.64050254,\n",
       "       0.12672734, 0.680325  , 0.23440707, 0.1514657 , 0.46592014,\n",
       "       0.72129214, 0.22366936, 0.08744453, 0.94914066, 0.06912897,\n",
       "       0.15441111, 0.11673414, 0.13698747, 0.62479556, 0.10489229,\n",
       "       0.10466318, 0.11653299, 0.68300546, 0.73077118, 0.56041235,\n",
       "       0.17261639, 0.44962971, 0.1797427 , 0.94099502, 0.12763601,\n",
       "       0.28431782, 0.26160327, 0.90493565, 0.12325812, 0.0863281 ,\n",
       "       0.58841284, 0.82679402, 0.39035106, 0.76180721, 0.14042445,\n",
       "       0.15393731, 0.34995998, 0.86248485, 0.7060411 ])"
      ]
     },
     "execution_count": 50,
     "metadata": {},
     "output_type": "execute_result"
    }
   ],
   "source": [
    "predicted_proba[:,1]"
   ]
  }
 ],
 "metadata": {
  "kernelspec": {
   "display_name": "Python 3 (ipykernel)",
   "language": "python",
   "name": "python3"
  },
  "language_info": {
   "codemirror_mode": {
    "name": "ipython",
    "version": 3
   },
   "file_extension": ".py",
   "mimetype": "text/x-python",
   "name": "python",
   "nbconvert_exporter": "python",
   "pygments_lexer": "ipython3",
   "version": "3.9.13"
  }
 },
 "nbformat": 4,
 "nbformat_minor": 5
}
